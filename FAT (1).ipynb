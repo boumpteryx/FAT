{
  "nbformat": 4,
  "nbformat_minor": 0,
  "metadata": {
    "colab": {
      "name": "FAT.ipynb",
      "provenance": [],
      "collapsed_sections": []
    },
    "kernelspec": {
      "name": "python3",
      "display_name": "Python 3"
    },
    "language_info": {
      "name": "python"
    }
  },
  "cells": [
    {
      "cell_type": "markdown",
      "source": [
        "# Projet Velib\n",
        "## Antoine Desjardins & Martin Lainée\n",
        "\n",
        "On considère un système de vélos partagés, type Vélib, où les vélos\n",
        "sont disponibles dans des stations dédiées et peuvent être empruntés\n",
        "pour faire des trajets d’une station à une autre. Le but de ce projet est\n",
        "de calculer les probabilités stationnaires que chaque station soit vide."
      ],
      "metadata": {
        "id": "MHD7tSTZ2XWp"
      }
    },
    {
      "cell_type": "code",
      "source": [
        "pip install simpy"
      ],
      "metadata": {
        "colab": {
          "base_uri": "https://localhost:8080/"
        },
        "id": "6VT_-TUAGjR2",
        "outputId": "2a10ef53-0f4d-43c5-e99e-0a58d3cf0bdf"
      },
      "execution_count": null,
      "outputs": [
        {
          "output_type": "stream",
          "name": "stdout",
          "text": [
            "Collecting simpy\n",
            "  Downloading simpy-4.0.1-py2.py3-none-any.whl (29 kB)\n",
            "Installing collected packages: simpy\n",
            "Successfully installed simpy-4.0.1\n"
          ]
        }
      ]
    },
    {
      "cell_type": "code",
      "execution_count": null,
      "metadata": {
        "id": "zjyBQrjz2UWl"
      },
      "outputs": [],
      "source": [
        "import numpy as np\n",
        "import pandas as pd\n",
        "import random as rd\n",
        "import simpy"
      ]
    },
    {
      "cell_type": "markdown",
      "source": [
        "On pose les données du problème\n"
      ],
      "metadata": {
        "id": "MuYsnJDc23OE"
      }
    },
    {
      "cell_type": "code",
      "source": [
        "# taux de depart par heure\n",
        "lambada = [2.8,3.7,5.5,3.5,4.6]\n",
        "\n",
        "# temps moyen de trajet\n",
        "tau = [[0,3,5,7,7],\n",
        "       [2,0,2,5,5],\n",
        "       [4,2,0,3,3],\n",
        "       [8,6,4,0,2],\n",
        "       [7,7,5,2,0]]\n",
        "\n",
        "# matrice de routage\n",
        "p = [[0,0.22,0.32,0.2,0.26],\n",
        "     [0.17,0,0.34,0.21,0.28],\n",
        "     [0.19,0.26,0,0.24,0.31],\n",
        "     [0.17,0.22,0.33,0,0.28],\n",
        "     [0.18,0.24,0.35,0.23,0]]"
      ],
      "metadata": {
        "id": "cvkDgEiQ22T3"
      },
      "execution_count": null,
      "outputs": []
    },
    {
      "cell_type": "markdown",
      "source": [
        "On pose les conditions initiales"
      ],
      "metadata": {
        "id": "e59HqcdUOOG3"
      }
    },
    {
      "cell_type": "code",
      "source": [
        "# nombre de velos dans les stations\n",
        "n_station = [20,15,17,13,18]\n",
        "\n",
        "# nombres de velos sur la route\n",
        "n_trajet = [[0,1,0,0,0],\n",
        "            [1,0,1,0,0],\n",
        "            [0,1,0,1,0],\n",
        "            [0,0,1,0,1],\n",
        "            [0,0,0,1,0]]"
      ],
      "metadata": {
        "id": "w6wT21gYOROh"
      },
      "execution_count": null,
      "outputs": []
    },
    {
      "cell_type": "markdown",
      "source": [
        "# Calcul Théorique\n",
        "\n",
        "Nous proposons un modèle par colonie comme vu dans le cours. On indexe par $i$ entier les stations et par $(i→j)$ les connections entre ces stations. Pour les stations, nous avons les données suivantes:$\\phi_i(n) = 0$ si $n=0$ et $\\phi_i(n) = 1$ si $n>0$, avec $λ_{i,i→j} = λ_i * p_{i,j}$ . Pour les connections entre les stations, on a $\\phi_{i \\rightarrow j}(n)=n$ et $λ_{i \\rightarrow j,j} = 60/τ_{i,j}$, avec $λ_{i \\rightarrow j,k} = 0$ si $k \\neq j$.\n",
        "\n",
        "\n",
        "L'espace d'état dans le cas d'un seul vélo est ${\\{0,1\\}^n}$ avec $n$ le nombre de zones (stations + trajets entre les stations).\n",
        "\n",
        "Dans le cas à 1 vélo, on a le générateur infinitésimal suivant :\n",
        "\n",
        "| A               | i             | i -> j              | j        |\n",
        "|-----------------|---------------|---------------------|----------|\n",
        "| station i       | $- \\lambda_i$ | $\\lambda_i$ * $p_{ij}$ | $0$      |\n",
        "| transition i->j | $0$           | $\\frac{-60}{\\tau_{ij}}$ | $\\frac{60}{\\tau_{ij}}$ |\n",
        "| station j       | $0$           | $0$                 | $-\\lambda_{j}$ |\n",
        "\n",
        "La chaîne de Markov est récurrente positive sur un espace d'état fini. De plus, elle est irréductible. Donc il existe une unique mesure de probabilité $\\pi$ telle que $\\pi A = 0$.\n",
        "\n",
        "$0 = (\\pi A)_{i \\rightarrow j} = \\pi(i) *\\lambda_{i}*p_{ij} - \\frac{60}{\\tau_{ij}} * \\pi(i \\rightarrow j) => \\pi(i \\rightarrow j) = \\pi(i)*\\frac{\\tau_{ij}*\\lambda_{i}*p_{ij}}{60}$\n",
        "$0 = (\\pi A)_{i} \\pi(i)*(-\\lambda_{i}) + Σ_{j \\neq i} \\frac{60}{\\tau_{ij}}*\\pi(i \\rightarrow j) = \\lambda_{i}*\\pi(i) + Σ_{j \\neq i}\\pi{j}\\lambda_{j}*p_{ij}$\n",
        "\n",
        "Soit $\\pi(i) = Σ_{j \\neq i} \\pi(j)*p_{ij}*\\frac{λ_{j}}{λ_{i}}$\n",
        "\n",
        "On obtient un système d'équation que l'on peut résoudre à normalisation près. En le résolvant puis en le normalisant, on obtient donc les probabilités pour chaque station que le vélo s'y trouve, desquelles on déduit immédiatement les probabilités que les stations soient vides. Avec les données du problème, on obtient le vecteur suivant: $\\pi$(i est vide) = $(78,6\\%,83,8\\%,89,1\\%,82,9\\%,87,0\\%)$\n"
      ],
      "metadata": {
        "id": "--x2KMlJ-K6I"
      }
    },
    {
      "cell_type": "code",
      "source": [
        "class Station(object):\n",
        "    def __init__(self,lambada,population,observation):\n",
        "        self.lambada = lambada\n",
        "        self.population = population\n",
        "        self.maximum = population\n",
        "        self.observation = observation\n",
        "        self.data = []\n",
        "        self.empty = [0 for i in range(observation)]\n",
        "        self.pointer = 0\n",
        "    \n",
        "    def weight(self):\n",
        "        if self.population == 0:\n",
        "            return 0\n",
        "        return self.lambada\n",
        "    \n",
        "    def observe(self):\n",
        "        if self.pointer == self.observation:\n",
        "            self.pointer = 0\n",
        "            self.data.append(self.value())\n",
        "        if self.population == 0:\n",
        "          self.empty[self.pointer] = 1\n",
        "        else:\n",
        "          self.empty[self.pointer] = 0\n",
        "        self.pointer += 1\n",
        "    \n",
        "    def value(self):\n",
        "      V = 0\n",
        "      for x in self.empty:\n",
        "        V += x\n",
        "      return V/self.observation\n",
        "    \n",
        "    def increment(self,change):\n",
        "        self.population += change\n",
        "\n",
        "class Connection(object):\n",
        "    def __init__(self,tau,origin,destination,population,observation):\n",
        "        self.lambada = 60/tau\n",
        "        self.origin = origin\n",
        "        self.destination = destination\n",
        "        self.population = population\n",
        "        self.observation = observation\n",
        "        self.data = [0 for i in range(observation)]\n",
        "        self.empty = [0 for i in range(observation)]\n",
        "        self.pointer = 0\n",
        "    \n",
        "    def weight(self):\n",
        "        return self.lambada * self.population\n",
        "    \n",
        "    def observe(self):\n",
        "        if self.pointer == self.observation:\n",
        "            self.pointer = 0\n",
        "        self.data[self.pointer] = self.population\n",
        "        if self.population == 0:\n",
        "          self.empty[self.pointer] = 1\n",
        "        else:\n",
        "          self.empty[self.pointer] = 0\n",
        "        self.pointer += 1\n",
        "    \n",
        "    def increment(self,change):\n",
        "        self.population += change\n",
        "    \n",
        "    def value(self):\n",
        "      V1,V2 = 0,0\n",
        "      for x in self.data:\n",
        "        V1 += x\n",
        "      for x in self.empty:\n",
        "        V2 += x\n",
        "      return V1/self.observation,V2/self.observation\n",
        "        \n",
        "    \n",
        "class Network(object):\n",
        "    def __init__(self,Stations,Connections,Routing):\n",
        "        self.Stations = Stations\n",
        "        self.Connections = Connections\n",
        "        self.Routing = Routing\n",
        "        self.time = 0\n",
        "        self.events = 0\n",
        "        self.Value = []\n",
        "     \n",
        "    def weight(self):\n",
        "        Weight = 0\n",
        "        for S in self.Stations:\n",
        "            Weight += S.weight()\n",
        "        for C in self.Connections:\n",
        "            Weight += C.weight()\n",
        "        return Weight\n",
        "    \n",
        "    def event(self,env,freq):\n",
        "        Lambada = self.weight()\n",
        "        r = Lambada*rd.random()\n",
        "        S = len(self.Stations) - 1\n",
        "        while r >= 0 and S >= 0:\n",
        "            r -= self.Stations[S].weight()\n",
        "            S -= 1\n",
        "        if r < 0:\n",
        "            S += 1\n",
        "            self.Stations[S].increment(-1)\n",
        "            d = rd.random()\n",
        "            s = len(self.Routing[S]) -1\n",
        "            while d >= 0:\n",
        "                d -= self.Routing[S][s]\n",
        "                s -= 1\n",
        "            s += 1\n",
        "            for c in range(len(self.Connections)):\n",
        "                if self.Connections[c].origin == S and self.Connections[c].destination == s:\n",
        "                    self.Connections[c].increment(1)\n",
        "        else:\n",
        "            C = len(self.Connections) - 1\n",
        "            while r >= 0 and C >= 0:\n",
        "                r -= self.Connections[C].weight()\n",
        "                C -= 1\n",
        "            C += 1\n",
        "            self.Connections[C].increment(-1)\n",
        "            self.Stations[self.Connections[C].destination].increment(1)\n",
        "        t = np.random.exponential(1/Lambada)\n",
        "        if self.time//freq != (self.time + t)//freq:\n",
        "            self.value()\n",
        "            print(self.time)\n",
        "        self.time += t\n",
        "        self.events += 1\n",
        "        for S in self.Stations:\n",
        "            S.observe()\n",
        "        yield env.timeout(t)\n",
        "        yield env.process(self.event(env,freq))\n",
        "    \n",
        "    def value(self):\n",
        "      V1 = []\n",
        "      for S in self.Stations:\n",
        "        n = len(S.data)\n",
        "        V = 0\n",
        "        for i in range(n):\n",
        "             V += S.data[i]/n\n",
        "        V1.append(V)\n",
        "      self.Value.append((self.time,V1))"
      ],
      "metadata": {
        "id": "qmf-mbZS-la2"
      },
      "execution_count": null,
      "outputs": []
    },
    {
      "cell_type": "markdown",
      "source": [
        "# Simulation"
      ],
      "metadata": {
        "id": "qfl1Jsjk3AD1"
      }
    },
    {
      "cell_type": "code",
      "source": [
        "def run(lambada,tau,routing,nStations,nTrajets,observation,limit=10,freq = 1,N=[]):\n",
        "  if N == []:\n",
        "      n = len(lambada)\n",
        "      Stations = [Station(lambada[i],nStations[i],observation) for i in range(n)]\n",
        "      Connections =[]\n",
        "      for i in range(n):\n",
        "          for j in range(n):\n",
        "              if j != i:\n",
        "                  Connections.append(Connection(tau[i][j],i,j,nTrajets[i][j],observation))\n",
        "      N = Network(Stations,Connections,routing)\n",
        "  env = simpy.Environment()\n",
        "  env.process(N.event(env,freq))\n",
        "  env.run(until = limit)\n",
        "  return N\n",
        "\n"
      ],
      "metadata": {
        "id": "XbMTp3mz3NaS"
      },
      "execution_count": null,
      "outputs": []
    },
    {
      "cell_type": "code",
      "source": [
        "run(lambada,tau,p,n_station,n_trajet,10000,100000)"
      ],
      "metadata": {
        "colab": {
          "base_uri": "https://localhost:8080/"
        },
        "id": "oWpmJ_oJHGOI",
        "outputId": "d5b22ebd-0612-4d2e-ca23-a81f8c69a476"
      },
      "execution_count": null,
      "outputs": [
        {
          "output_type": "execute_result",
          "data": {
            "text/plain": [
              "([0,\n",
              "  0,\n",
              "  0,\n",
              "  0,\n",
              "  0,\n",
              "  0.04530000000000025,\n",
              "  0.08690000000000134,\n",
              "  0.0902000000000014,\n",
              "  0.1006000000000018,\n",
              "  0.035699999999999996,\n",
              "  0.08020000000000123,\n",
              "  0.07000000000000094,\n",
              "  0.10770000000000197,\n",
              "  0.08090000000000126,\n",
              "  0.07420000000000106,\n",
              "  0.08430000000000135,\n",
              "  0.11460000000000206,\n",
              "  0.09010000000000146,\n",
              "  0.09750000000000171,\n",
              "  0.11200000000000206,\n",
              "  0.05030000000000036,\n",
              "  0.10930000000000195,\n",
              "  0.12740000000000212,\n",
              "  0.1659999999999994,\n",
              "  0.04960000000000039],\n",
              " [53.38030000000134,\n",
              "  12.351100000000077,\n",
              "  6.544199999999908,\n",
              "  6.8192000000000155,\n",
              "  10.47589999999982,\n",
              "  0.9553999999999111,\n",
              "  0.9160999999999154,\n",
              "  0.9156999999999155,\n",
              "  0.9043999999999167,\n",
              "  0.9647999999999101,\n",
              "  0.9227999999999147,\n",
              "  0.9313999999999137,\n",
              "  0.8955999999999177,\n",
              "  0.9227999999999147,\n",
              "  0.9281999999999141,\n",
              "  0.9183999999999152,\n",
              "  0.8921999999999181,\n",
              "  0.9143999999999156,\n",
              "  0.9083999999999163,\n",
              "  0.8936999999999179,\n",
              "  0.9513999999999115,\n",
              "  0.8945999999999178,\n",
              "  0.8815999999999192,\n",
              "  0.8505999999999226,\n",
              "  0.9509999999999116])"
            ]
          },
          "metadata": {},
          "execution_count": 9
        }
      ]
    },
    {
      "cell_type": "markdown",
      "source": [
        "En utilisant le simulateur avec les données initiales fournies, nous avons fait tourner les simulations en observant la proportion totale d'évènements sur lesquels chaque station était vide. Grâce au warm start, nous avons utilisé le simulateur pour simuler 50 000 heures à la fois, jusqu'à ce que les probabilités simulées pour chaque station d'être vide reste constante au dixième de pourcent près. Au bout de 250 000 heures de simulation, c'était bien le cas. Nous obtenons alors le vecteur $π$ suivant: $\\pi$(i est vide) = $(0,7\\%,4,3\\%,14,0\\%,4,1\\%,10,2\\%)$"
      ],
      "metadata": {
        "id": "7z-BxObf0e80"
      }
    }
  ]
}